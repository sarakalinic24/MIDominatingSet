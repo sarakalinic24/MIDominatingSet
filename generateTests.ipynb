{
 "cells": [
  {
   "cell_type": "code",
   "execution_count": 3,
   "metadata": {},
   "outputs": [],
   "source": [
    "import networkx as nx\n",
    "import random\n",
    "import json\n",
    "import sys"
   ]
  },
  {
   "cell_type": "code",
   "execution_count": 4,
   "metadata": {},
   "outputs": [],
   "source": [
    "def generateTestCase(num_nodes, prob):\n",
    "    graph: nx.Graph = nx.fast_gnp_random_graph(num_nodes, prob)\n",
    "    if not nx.is_connected(graph):\n",
    "        components = list(nx.connected_components(graph))\n",
    "        while len(components) > 1:\n",
    "            comp1 = random.choice(components)\n",
    "            comp2 = random.choice([c for c in components if c != comp1])\n",
    "\n",
    "            u = random.choice(list(comp1))\n",
    "            v = random.choice(list(comp2))\n",
    "            graph.add_edge(u, v)\n",
    "\n",
    "            components = list(nx.connected_components(graph))\n",
    "\n",
    "\n",
    "    nx.write_gml(graph, f'tests/test_{num_nodes}_{prob}.in')"
   ]
  },
  {
   "cell_type": "code",
   "execution_count": 5,
   "metadata": {},
   "outputs": [],
   "source": [
    "for num in range(10, 101, 15):\n",
    "    for prob in [0.3, 0.5]:\n",
    "        generateTestCase(num, prob)"
   ]
  },
  {
   "cell_type": "code",
   "execution_count": null,
   "metadata": {},
   "outputs": [],
   "source": []
  }
 ],
 "metadata": {
  "kernelspec": {
   "display_name": "Python 3",
   "language": "python",
   "name": "python3"
  },
  "language_info": {
   "codemirror_mode": {
    "name": "ipython",
    "version": 3
   },
   "file_extension": ".py",
   "mimetype": "text/x-python",
   "name": "python",
   "nbconvert_exporter": "python",
   "pygments_lexer": "ipython3",
   "version": "3.10.12"
  }
 },
 "nbformat": 4,
 "nbformat_minor": 2
}
