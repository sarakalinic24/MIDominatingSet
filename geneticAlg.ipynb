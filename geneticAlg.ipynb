{
 "cells": [
  {
   "cell_type": "code",
   "execution_count": 1121,
   "metadata": {},
   "outputs": [],
   "source": [
    "import random\n",
    "import networkx as nx\n",
    "import itertools\n",
    "import time\n",
    "import matplotlib.pyplot as plt"
   ]
  },
  {
   "cell_type": "code",
   "execution_count": 1122,
   "metadata": {},
   "outputs": [],
   "source": [
    "class Individual:\n",
    "    def __init__(self, graph):\n",
    "        self.graph = graph\n",
    "        self.nodes = list(graph.nodes())\n",
    "        self.code = [random.random() < 0.3 for _ in range(len(self.nodes))]  \n",
    "        self.fitness = self.calc_fitness()  \n",
    "    \n",
    "    def is_independent_set(self):\n",
    "        included_nodes = [node for idx, node in enumerate(self.nodes) if self.code[idx] == 1]\n",
    "        \n",
    "        for u, v in itertools.combinations(included_nodes, 2):\n",
    "            if self.graph.has_edge(u, v):\n",
    "                return False\n",
    "        return True  \n",
    "    \n",
    "    def is_dominating_set(self):\n",
    "        included_nodes = [node for idx, node in enumerate(self.nodes) if self.code[idx] == 1]\n",
    "        dominating_nodes = set(included_nodes)\n",
    "        \n",
    "        for node in included_nodes:\n",
    "            dominating_nodes.update(self.graph.neighbors(node))\n",
    "        \n",
    "        return len(dominating_nodes) == len(self.graph.nodes)\n",
    "    \n",
    "    def calc_fitness(self):\n",
    "        if not self.is_independent_set() or not self.is_dominating_set():\n",
    "            return float('-inf')  \n",
    "        \n",
    "        return 1/sum(self.code)"
   ]
  },
  {
   "cell_type": "code",
   "execution_count": 1123,
   "metadata": {},
   "outputs": [],
   "source": [
    "def selection(population, tournament_size):\n",
    "    chosen = random.sample(population, tournament_size)\n",
    "    return max(chosen, key=lambda individual: individual.fitness)"
   ]
  },
  {
   "cell_type": "code",
   "execution_count": 1124,
   "metadata": {},
   "outputs": [],
   "source": [
    "def crossover(parent1, parent2, child1, child2):\n",
    "    random_pos = random.randrange(0, len(parent1.code))\n",
    "    \n",
    "    child1.code[:random_pos] = parent1.code[:random_pos]\n",
    "    child1.code[random_pos:] = parent2.code[random_pos:]\n",
    "    \n",
    "    child2.code[:random_pos] = parent2.code[:random_pos]\n",
    "    child2.code[random_pos:] = parent1.code[random_pos:]"
   ]
  },
  {
   "cell_type": "code",
   "execution_count": 1125,
   "metadata": {},
   "outputs": [],
   "source": [
    "def mutation(individual, mutation_prob):\n",
    "    for i in range(len(individual.code)):\n",
    "        if random.random() < mutation_prob:\n",
    "            individual.code[i] = not individual.code[i]"
   ]
  },
  {
   "cell_type": "code",
   "execution_count": 1126,
   "metadata": {},
   "outputs": [],
   "source": [
    "def ga(population_size, num_generations, tournament_size, elitism_size, mutation_prob, graph):\n",
    "    population = [Individual(graph) for _ in range(population_size)]\n",
    "    new_population = population.copy()\n",
    "    \n",
    "    for _ in range(num_generations):\n",
    "        population.sort(key=lambda x: x.fitness, reverse=True)\n",
    "        new_population[:elitism_size] = population[:elitism_size]\n",
    "        for j in range(elitism_size, population_size, 2):\n",
    "            parent1 = selection(population, tournament_size)\n",
    "            parent2 = selection(population, tournament_size)\n",
    "            \n",
    "            crossover(parent1, parent2, child1=new_population[j], child2=new_population[j+1])\n",
    "\n",
    "            mutation(new_population[j], mutation_prob)\n",
    "            mutation(new_population[j+1], mutation_prob)\n",
    "            \n",
    "            new_population[j].fitness = new_population[j].calc_fitness()\n",
    "            new_population[j+1].fitness = new_population[j+1].calc_fitness()\n",
    "        \n",
    "        population = new_population.copy()\n",
    "    return max(population, key=lambda x: x.fitness)"
   ]
  },
  {
   "cell_type": "code",
   "execution_count": 1127,
   "metadata": {},
   "outputs": [],
   "source": [
    "def ga_main(graph):\n",
    "    best = ga(\n",
    "        population_size=3000,\n",
    "        num_generations=80,\n",
    "        tournament_size=27,\n",
    "        elitism_size=60,\n",
    "        mutation_prob=0.05,\n",
    "        graph=graph,\n",
    "    )\n",
    "\n",
    "    return best.code, best.fitness"
   ]
  },
  {
   "cell_type": "code",
   "execution_count": 1128,
   "metadata": {},
   "outputs": [],
   "source": [
    "def draw_graph(graph, min_set):\n",
    "    pos = nx.spring_layout(graph)  \n",
    "    plt.figure(figsize=(8, 6)) \n",
    "    \n",
    "    nx.draw_networkx_edges(graph, pos, edge_color='gray', alpha=0.5)\n",
    "    \n",
    "    node_color = 'lightblue'\n",
    "    node_color = ['red' if min_set[i] else 'lightblue' for i in range(len(graph.nodes))]\n",
    "    \n",
    "    nx.draw_networkx_nodes(graph, pos, node_color=node_color, node_size=500)\n",
    "    \n",
    "    nx.draw_networkx_labels(graph, pos)\n",
    "    \n",
    "    plt.title(\"Graf sa Minimalnim Nezavisnim Dominirajućim Skupom\")\n",
    "    plt.show()"
   ]
  },
  {
   "cell_type": "code",
   "execution_count": 1129,
   "metadata": {},
   "outputs": [],
   "source": [
    "graph = nx.read_gml(\"tests/test_30_0.5.in\")\n",
    "\n",
    "start_time = time.time()\n",
    "best_code, best_fitness = ga_main(graph)\n",
    "print(\"--- %s seconds ---\" % (time.time() - start_time))\n",
    "print(best_fitness)\n",
    "\n",
    "draw_graph(graph, best_code)"
   ]
  },
  {
   "cell_type": "code",
   "execution_count": null,
   "metadata": {},
   "outputs": [],
   "source": []
  }
 ],
 "metadata": {
  "kernelspec": {
   "display_name": "Python 3",
   "language": "python",
   "name": "python3"
  },
  "language_info": {
   "codemirror_mode": {
    "name": "ipython",
    "version": 3
   },
   "file_extension": ".py",
   "mimetype": "text/x-python",
   "name": "python",
   "nbconvert_exporter": "python",
   "pygments_lexer": "ipython3",
   "version": "3.12.0"
  }
 },
 "nbformat": 4,
 "nbformat_minor": 2
}
