{
 "cells": [
  {
   "cell_type": "code",
   "execution_count": 37,
   "metadata": {},
   "outputs": [
    {
     "name": "stdout",
     "output_type": "stream",
     "text": [
      "Best Independent Dominating Set: None\n",
      "Fitness (1 / length of the set): -inf\n"
     ]
    }
   ],
   "source": [
    "import networkx as nx\n",
    "import numpy as np\n",
    "import random\n",
    "\n",
    "def is_independent_set(graph, subset):\n",
    "    for u in subset:\n",
    "        for v in subset:\n",
    "            if u != v and graph.has_edge(u, v):\n",
    "                return False\n",
    "    return True\n",
    "\n",
    "def is_dominating_set(graph, subset):\n",
    "    dominating_nodes = set(subset)\n",
    "    for node in subset:\n",
    "        dominating_nodes.update(graph.neighbors(node))\n",
    "    return len(dominating_nodes) == len(graph.nodes)\n",
    "\n",
    "def fitness(solution, graph):\n",
    "    if is_independent_set(graph, solution) and is_dominating_set(graph, solution):\n",
    "        return 1 / len(solution)  # Valid solution: inversely proportional to size\n",
    "    return float('-inf')  # Invalid solution\n",
    "\n",
    "def aco_minimum_independent_dominating_set(graph, num_ants, num_iterations, alpha, beta, evaporation_rate):\n",
    "    node_list = list(graph.nodes())  # Get a list of the graph's nodes\n",
    "    num_nodes = len(node_list)\n",
    "    pheromone_matrix = np.ones(num_nodes)  # Initialize pheromone levels for each node\n",
    "\n",
    "    best_solution = None\n",
    "    best_fitness = float('-inf')\n",
    "\n",
    "    for iteration in range(num_iterations):\n",
    "        solutions = []\n",
    "\n",
    "        for _ in range(num_ants):\n",
    "            # Generate a solution (set of nodes)\n",
    "            solution = set()\n",
    "            available_nodes = set(node_list)  # Set of nodes still available for selection\n",
    "            \n",
    "            while available_nodes:  # Continue until no nodes are left\n",
    "                # Choose a node based on pheromone levels\n",
    "                probabilities = np.array([pheromone_matrix[node_list.index(node)] for node in available_nodes])\n",
    "                probabilities /= probabilities.sum()  # Normalize probabilities\n",
    "                \n",
    "                selected_node = np.random.choice(list(available_nodes), p=probabilities)\n",
    "                solution.add(selected_node)\n",
    "                available_nodes.remove(selected_node)  # Remove selected node\n",
    "                \n",
    "                # Check if the solution is still valid\n",
    "                if not is_independent_set(graph, solution):  # Check validity\n",
    "                    solution.remove(selected_node)  # Remove if it makes it invalid\n",
    "                    break\n",
    "            \n",
    "            fitness_value = fitness(solution, graph)\n",
    "            solutions.append((solution, fitness_value))\n",
    "\n",
    "            # Update the best solution found so far\n",
    "            if fitness_value > best_fitness:  # Maximizing fitness\n",
    "                best_fitness = fitness_value\n",
    "                best_solution = solution\n",
    "\n",
    "        # Update pheromones\n",
    "        pheromone_matrix *= (1 - evaporation_rate)  # Evaporate pheromones\n",
    "        for solution, fitness_value in solutions:\n",
    "            if fitness_value > 0:  # Only update for valid solutions\n",
    "                for node in solution:\n",
    "                    pheromone_matrix[node_list.index(node)] += (1 / fitness_value)  # Increase pheromone\n",
    "\n",
    "    return best_solution, best_fitness\n",
    "\n",
    "# Example Usage\n",
    "if __name__ == \"__main__\":\n",
    "    graph = nx.read_gml(\"tests/test_100_0.3.in\")\n",
    "\n",
    "    best_set, best_value = aco_minimum_independent_dominating_set(graph, num_ants=10, num_iterations=1000, alpha=1, beta=1, evaporation_rate=0.1)\n",
    "    print(\"Best Independent Dominating Set:\", best_set)\n",
    "    print(\"Fitness (1 / length of the set):\", best_value)\n"
   ]
  },
  {
   "cell_type": "code",
   "execution_count": null,
   "metadata": {},
   "outputs": [],
   "source": []
  },
  {
   "cell_type": "code",
   "execution_count": null,
   "metadata": {},
   "outputs": [],
   "source": []
  }
 ],
 "metadata": {
  "kernelspec": {
   "display_name": "Python 3",
   "language": "python",
   "name": "python3"
  },
  "language_info": {
   "codemirror_mode": {
    "name": "ipython",
    "version": 3
   },
   "file_extension": ".py",
   "mimetype": "text/x-python",
   "name": "python",
   "nbconvert_exporter": "python",
   "pygments_lexer": "ipython3",
   "version": "3.10.12"
  }
 },
 "nbformat": 4,
 "nbformat_minor": 2
}
